{
 "cells": [
  {
   "cell_type": "code",
   "execution_count": null,
   "id": "ff5c7ef0-0661-40a7-8b7d-53fd888213ea",
   "metadata": {},
   "outputs": [],
   "source": [
    "counts = {}\n",
    "A_cuonts = 0\n",
    "C_counts = 0\n",
    "G_counts = 0\n",
    "T_counts = 0\n",
    "sequences = \"AGCTTTTCATTCTGACTGCAACGGGCAATATGTCTCTGTGTGGATTAAAAAAAGAGTGTCTGATAGCAGC\"\n",
    "\n",
    "for i in sequences:\n",
    "    if i == 'A':\n",
    "        A_cuonts += 1\n",
    "    elif i == 'C':\n",
    "        C_counts += 1\n",
    "    elif i == 'G':\n",
    "        G_counts += 1\n",
    "    elif i == 'T':\n",
    "        T_counts += 1\n",
    "counts = {\n",
    "    'A': A_cuonts,\n",
    "    'C': C_counts,\n",
    "    'G': G_counts, \n",
    "    'T': T_counts\n",
    "}\n",
    "print(counts)\n"
   ]
  },
  {
   "cell_type": "code",
   "execution_count": null,
   "id": "ed15159d-7385-4890-a6b6-12f2ca8a62d8",
   "metadata": {},
   "outputs": [],
   "source": [
    "dna_sequences = 'GATGGAACTTGACTACGTAAATT'\n",
    "transcription = {'A': 'U', 'T': 'A', 'C': 'G', 'G': 'C'}\n",
    "\n",
    "# 拆分后的标准for循环\n",
    "rna_list = []  # 创建一个空列表来存储每个转换后的字符\n",
    "\n",
    "for nucleotide in dna_sequences:\n",
    "    converted_nucleotide = transcription[nucleotide]  # 根据字典查找对应的RNA碱基\n",
    "    rna_list.append(converted_nucleotide)  # 将转换后的碱基添加到列表中\n",
    "\n",
    "# 将列表中的所有字符连接成一个字符串\n",
    "rna_sequences = ''.join(rna_list)\n",
    "\n",
    "print(rna_sequences)"
   ]
  },
  {
   "cell_type": "code",
   "execution_count": 1,
   "id": "9f055450-592e-4cb7-98aa-26751bc97d62",
   "metadata": {},
   "outputs": [
    {
     "name": "stdout",
     "output_type": "stream",
     "text": [
      "CUACCUUGAACUGAUGCAUUUAA\n"
     ]
    }
   ],
   "source": [
    "dna_sequences = 'GATGGAACTTGACTACGTAAATT'\n",
    "transcription = {'A': 'U', 'T': 'A', 'C': 'G', 'G': 'C'}\n",
    "\n",
    "# 拆分后的标准for循环\n",
    "rna_list = []  # 创建一个空列表来存储每个转换后的字符\n",
    "\n",
    "for nucleotide in dna_sequences:\n",
    "    converted_nucleotide = transcription[nucleotide]  # 根据字典查找对应的RNA碱基\n",
    "    rna_list.append(converted_nucleotide)  # 将转换后的碱基添加到列表中\n",
    "\n",
    "# 将列表中的所有字符连接成一个字符串\n",
    "rna_sequences = ''.join(rna_list)\n",
    "\n",
    "print(rna_sequences)"
   ]
  },
  {
   "cell_type": "code",
   "execution_count": 2,
   "id": "48737858-cec3-48d9-a3e2-0c18401ba052",
   "metadata": {},
   "outputs": [
    {
     "name": "stdout",
     "output_type": "stream",
     "text": [
      "TGGCCCAAAA\n",
      "TGGCCCAAAA\n",
      "ACCGGGTTTT\n"
     ]
    }
   ],
   "source": [
    "dna_sequences = 'AAAACCCGGT'\n",
    "re_dna_sequences = dna_sequences[::-1]\n",
    "print(re_dna_sequences)  # 输出：'TGGCCCAAAA'\n",
    "dna_sequences = 'AAAACCCGGT'\n",
    "re_dna_sequences = ''.join(reversed(dna_sequences))\n",
    "supplement = {'A': 'T', 'T': 'A', 'C': 'G', 'G': 'C'}\n",
    "for i in re_dna_sequences:\n",
    "    if i == 'A':\n",
    "        i = supplement['A']\n",
    "    elif i == 'T':\n",
    "        i = supplement['T']\n",
    "    elif i == 'C':\n",
    "        i = supplement['C']\n",
    "    elif i == 'G':\n",
    "        i = supplement['G']\n",
    "re_supplement = ''.join(reversed(dna_sequences))\n",
    "print(re_supplement)\n",
    "\n",
    "dna_sequences = 'AAAACCCGGT'\n",
    "re_dna_sequences = ''.join(reversed(dna_sequences))\n",
    "supplement = {'A': 'T', 'T': 'A', 'C': 'G', 'G': 'C'}\n",
    "\n",
    "result_list = []\n",
    "for i in re_dna_sequences:\n",
    "    result_list.append(supplement[i])\n",
    "\n",
    "result = ''.join(result_list)\n",
    "print(result)  # 输出：ACCGGGTTTT"
   ]
  },
  {
   "cell_type": "code",
   "execution_count": null,
   "id": "12bc9780-42a0-47d6-a768-1cff66933d90",
   "metadata": {},
   "outputs": [],
   "source": [
    "Rosalind={'Rosalind_6404':\n",
    "'CCTGCGGAAGATCGGCACTAGAATAGCCAGAACCGTTTCTCTGAGGCTTCCGGCCTTCCCTCCCACTAATAATTCTGAGG',\n",
    "'Rosalind_5959':\n",
    "'CCATCGGTAGCGCATCCTTAGTCCAATTAAGTCCCTATCCAGGCGCTCCGCCGAAGGTCTATATCCATTTGTCAGCAGACACGC',\n",
    "'Rosalind_0808':\n",
    "'CCACCCTCGTGGTATGGCTAGGCATTCAGGAACCGGAGAACGCTTCAGACCAGCCCGGACTGGGAACCTGCGGGCAGTAGGTGGAAT'}\n",
    "Rosalind_CG_content = {}\n",
    "for k,v in Rosalind.items():\n",
    "    length = len(v)\n",
    "    G_counts = v.count('G')\n",
    "    C_counts = v.count('C')\n",
    "    GC_content = (G_counts + C_counts)/length * 100\n",
    "    Rosalind_CG_content[k] = round(GC_content,3)\n",
    "\n",
    "Rosalind_CG_content\n",
    "for k,v in Rosalind_CG_content.items():\n",
    "    sorted_Rosalind_CG_content = sorted(Rosalind_CG_content.items(), key=lambda x: x[1], reverse=True)\n",
    "sorted_Rosalind_CG_content[0]\n",
    "print(f\"{sorted_Rosalind_CG_content[0][0]}\\n{sorted_Rosalind_CG_content[0][1]}%\")"
   ]
  },
  {
   "cell_type": "code",
   "execution_count": 3,
   "id": "3ad7fef7-d861-415b-9b6b-9ec015e2a0a1",
   "metadata": {},
   "outputs": [
    {
     "name": "stdout",
     "output_type": "stream",
     "text": [
      "19\n"
     ]
    }
   ],
   "source": [
    "# 斐波那契练习\n",
    "n = 5  # 月份\n",
    "k = 3  # 每对成熟兔子每月生出的兔子对数\n",
    "\n",
    "# 初始化前两个月的兔子数量\n",
    "F1 = 1\n",
    "F2 = 1\n",
    "\n",
    "# 从第3个月开始计算\n",
    "for month in range(3, n + 1):\n",
    "    Fn = F2 + k * F1  # 当前月兔子数 = 上月兔子数 + k × 前两月兔子数\n",
    "    F1, F2 = F2, Fn   # 更新 F1 和 F2，为下次循环做准备\n",
    "\n",
    "print(Fn)  # 输出第n个月的兔子总数\n",
    "\n"
   ]
  },
  {
   "cell_type": "code",
   "execution_count": 4,
   "id": "58cbff1a-92eb-4882-bbd9-dd569090607a",
   "metadata": {},
   "outputs": [
    {
     "name": "stdout",
     "output_type": "stream",
     "text": [
      "Rosalind_0808\n",
      "60.92%\n"
     ]
    }
   ],
   "source": [
    "Rosalind={'Rosalind_6404':\n",
    "'CCTGCGGAAGATCGGCACTAGAATAGCCAGAACCGTTTCTCTGAGGCTTCCGGCCTTCCCTCCCACTAATAATTCTGAGG',\n",
    "'Rosalind_5959':\n",
    "'CCATCGGTAGCGCATCCTTAGTCCAATTAAGTCCCTATCCAGGCGCTCCGCCGAAGGTCTATATCCATTTGTCAGCAGACACGC',\n",
    "'Rosalind_0808':\n",
    "'CCACCCTCGTGGTATGGCTAGGCATTCAGGAACCGGAGAACGCTTCAGACCAGCCCGGACTGGGAACCTGCGGGCAGTAGGTGGAAT'}\n",
    "Rosalind_CG_content = {}\n",
    "for k,v in Rosalind.items():\n",
    "    length = len(v)\n",
    "    G_counts = v.count('G')\n",
    "    C_counts = v.count('C')\n",
    "    GC_content = (G_counts + C_counts)/length * 100\n",
    "    Rosalind_CG_content[k] = round(GC_content,3)\n",
    "\n",
    "Rosalind_CG_content\n",
    "for k,v in Rosalind_CG_content.items():\n",
    "    sorted_Rosalind_CG_content = sorted(Rosalind_CG_content.items(), key=lambda x: x[1], reverse=True)\n",
    "sorted_Rosalind_CG_content[0]\n",
    "print(f\"{sorted_Rosalind_CG_content[0][0]}\\n{sorted_Rosalind_CG_content[0][1]}%\")"
   ]
  },
  {
   "cell_type": "code",
   "execution_count": 7,
   "id": "0a1adc30-4443-4e79-b0cb-d7e17df930f4",
   "metadata": {},
   "outputs": [
    {
     "name": "stdout",
     "output_type": "stream",
     "text": [
      "[('Rosalind_6404', 51.613), ('Rosalind_5959', 53.75), ('Rosalind_0808', 60.919)]\n",
      "Rosalind_0808\n",
      "60.919%\n"
     ]
    }
   ],
   "source": [
    "# 🪜 拆解成一步一步的 for 过程：\n",
    "\n",
    "# 原始字典\n",
    "Rosalind_CG_content = {\n",
    "    'Rosalind_6404': 51.613,\n",
    "    'Rosalind_5959': 53.75,\n",
    "    'Rosalind_0808': 60.919\n",
    "}\n",
    "\n",
    "# 第一步：把字典转成列表，每个元素是一个 (key, value) 元组\n",
    "items_list = []\n",
    "for key in Rosalind_CG_content:\n",
    "    items_list.append((key, Rosalind_CG_content[key]))\n",
    "print(items_list)\n",
    "\n",
    "# 第二步：手动排序这个列表，按 value 从大到小\n",
    "# 使用冒泡排序举例（更直观）\n",
    "for i in range(len(items_list)):\n",
    "    for j in range(len(items_list) - i - 1):\n",
    "        if items_list[j][1] < items_list[j + 1][1]:\n",
    "            # 交换位置\n",
    "            items_list[j], items_list[j + 1] = items_list[j + 1], items_list[j]\n",
    "\n",
    "# 第三步：取出排序后的第一个元素\n",
    "top_item = items_list[0]\n",
    "print(f\"{top_item[0]}\\n{top_item[1]}%\")"
   ]
  },
  {
   "cell_type": "code",
   "execution_count": 8,
   "id": "894dcb0b-2020-43ab-ad52-1dc553424de0",
   "metadata": {},
   "outputs": [
    {
     "name": "stdout",
     "output_type": "stream",
     "text": [
      "Rosalind_0808\n",
      "60.92%\n"
     ]
    }
   ],
   "source": [
    "# 原始数据\n",
    "Rosalind = {\n",
    "    'Rosalind_6404': 'CCTGCGGAAGATCGGCACTAGAATAGCCAGAACCGTTTCTCTGAGGCTTCCGGCCTTCCCTCCCACTAATAATTCTGAGG',\n",
    "    'Rosalind_5959': 'CCATCGGTAGCGCATCCTTAGTCCAATTAAGTCCCTATCCAGGCGCTCCGCCGAAGGTCTATATCCATTTGTCAGCAGACACGC',\n",
    "    'Rosalind_0808': 'CCACCCTCGTGGTATGGCTAGGCATTCAGGAACCGGAGAACGCTTCAGACCAGCCCGGACTGGGAACCTGCGGGCAGTAGGTGGAAT'\n",
    "}\n",
    "\n",
    "# 第一步：计算每个序列的 GC 含量\n",
    "Rosalind_CG_content = {}\n",
    "for name in Rosalind:\n",
    "    sequence = Rosalind[name]\n",
    "    length = len(sequence)\n",
    "    G_count = 0\n",
    "    C_count = 0\n",
    "    for base in sequence:\n",
    "        if base == 'G':\n",
    "            G_count += 1\n",
    "        elif base == 'C':\n",
    "            C_count += 1\n",
    "    GC_percent = (G_count + C_count) / length * 100\n",
    "    Rosalind_CG_content[name] = round(GC_percent, 3)\n",
    "\n",
    "# 第二步：找出 GC 含量最高的序列（不排序，只找最大值）\n",
    "max_gc = -1\n",
    "max_id = ''\n",
    "\n",
    "for name in Rosalind_CG_content:\n",
    "    gc = Rosalind_CG_content[name]\n",
    "    if gc > max_gc:\n",
    "        max_gc = gc #只有比前一个大才会更新\n",
    "        max_id = name\n",
    "\n",
    "# 第三步：输出结果\n",
    "print(max_id)\n",
    "print(f\"{max_gc}%\")\n"
   ]
  },
  {
   "cell_type": "code",
   "execution_count": 9,
   "id": "addc5313-5bc1-4eca-b9ce-4c2359e4f6f6",
   "metadata": {},
   "outputs": [
    {
     "name": "stdout",
     "output_type": "stream",
     "text": [
      "Hamming Distance: 7\n"
     ]
    }
   ],
   "source": [
    "# 汉明距离  给定两个长度相等的字符串 𝑠 和 𝑡，它们之间的 汉明距离（Hamming distance），记作 𝑑𝐻(𝑠,𝑡)\n",
    "# 是指在相同位置上字符不相同的个数。\n",
    "# 输入两个等长的DNA字符串\n",
    "s = \"GAGCCTACTAACGGGAT\"\n",
    "t = \"CATCGTAATGACGGCCT\"\n",
    "\n",
    "# 初始化计数器\n",
    "hamming_distance = 0\n",
    "\n",
    "# 遍历每个位置，比较字符是否不同\n",
    "for i in range(len(s)):\n",
    "    if s[i] != t[i]:\n",
    "        hamming_distance += 1\n",
    "\n",
    "# 输出结果\n",
    "print(\"Hamming Distance:\", hamming_distance)\n"
   ]
  },
  {
   "cell_type": "markdown",
   "id": "ed833bea-db83-48e8-becd-1b3c7eafb99b",
   "metadata": {},
   "source": [
    "🧬 问题背景\n",
    "你有一个种群，包含三类个体：给定： 三个正整数 𝑘,𝑚,𝑛，表示一个种群中共有 𝑘+𝑚+𝑛 个个体：\n",
    "\n",
    "𝑘：纯合显性（AA）\n",
    "\n",
    "𝑚：杂合（Aa）\n",
    "\n",
    "𝑛：纯合隐性（aa）\n",
    "\n",
    "从中随机选两个个体交配，问：后代拥有显性性状（即至少一个显性等位基因）的概率是多少？\n",
    "\n",
    "从T = k+m+n 中选两个个体交配，总组合数是 (T(T-1))/2\n",
    "\n",
    "我们关心的是两个个体的类型组合。以下是所有可能的配对类型及其数量：\n",
    "\n",
    "配对类型\t|个数计算方式\n",
    "|---|---\n",
    "|AA × AA\t| (k(k-1))/2\n",
    "|AA × Aa\t|𝑘⋅𝑚\n",
    "|AA × aa\t|𝑘⋅𝑛\n",
    "|Aa × Aa\t|(𝑚(m-1))/2\n",
    "|Aa × aa\t|𝑚⋅𝑛\n",
    "|aa × aa\t|(𝑛(n-1))/2\n",
    "\n",
    "计算每种配对产生显性性状的概率\n",
    "|配对类型|\t显性概率\n",
    "|---|---\n",
    "|AA × AA|\t100% = 1\n",
    "|AA × Aa\t|100% = 1\n",
    "|AA × aa\t|100% = 1\n",
    "|Aa × Aa\t|75% = 0.75\n",
    "|Aa × aa\t|50% = 0.5\n",
    "|aa × aa\t|0% = 0\n",
    "\n",
    "计算每种配对的贡献\n",
    "每种配对的贡献 = 配对数量 × 显性概率\n",
    "\n",
    "然后把所有贡献加起来，除以总配对数，就是最终答案："
   ]
  },
  {
   "cell_type": "code",
   "execution_count": 11,
   "id": "080af701-c24a-4c5d-a964-dd3ddaa26c52",
   "metadata": {},
   "outputs": [
    {
     "data": {
      "text/plain": [
       "0.3939393939393939"
      ]
     },
     "execution_count": 11,
     "metadata": {},
     "output_type": "execute_result"
    }
   ],
   "source": [
    "# 输入：种群中三类个体数量\n",
    "k = 2  # 纯合显性 AA\n",
    "m = 2  # 杂合 Aa\n",
    "n = 2  # 纯合隐性 aa\n",
    "\n",
    "\n",
    "total = k + m + n\n",
    "total_pairs = total * (total - 1)\n",
    "\n",
    "\n",
    "# AA × AA → 100%\n",
    "AA_AA = k * (k - 1)\n",
    "\n",
    "# AA × Aa → 100%\n",
    "AA_Aa = k * m\n",
    "\n",
    "# AA × aa → 100%\n",
    "AA_aa = k * n\n",
    "\n",
    "# Aa × Aa → 75%\n",
    "Aa_Aa = m * (m - 1) * 0.75\n",
    "\n",
    "# Aa × aa → 50%\n",
    "Aa_aa = m * n * 0.5\n",
    "\n",
    "# aa × aa → 0%\n",
    "aa_aa = n * (n - 1) * 0\n",
    "\n",
    "\n",
    "dominant_total = AA_AA + AA_Aa + AA_aa + Aa_Aa + Aa_aa + aa_aa\n",
    "probability = dominant_total / total_pairs\n",
    "\n",
    "# def成函数\n",
    "def pr(k,m,n):\n",
    "    total = k + m + n\n",
    "    total_pairs = total * (total - 1)\n",
    "\n",
    "\n",
    "# AA × AA → 100%\n",
    "    AA_AA = k * (k - 1)\n",
    "\n",
    "# AA × Aa → 100%\n",
    "    AA_Aa = k * m\n",
    "\n",
    "# AA × aa → 100%\n",
    "    AA_aa = k * n\n",
    "\n",
    "# Aa × Aa → 75%\n",
    "    Aa_Aa = m * (m - 1) * 0.75\n",
    "\n",
    "# Aa × aa → 50%\n",
    "    Aa_aa = m * n * 0.5\n",
    "\n",
    "# aa × aa → 0%\n",
    "    aa_aa = n * (n - 1) * 0\n",
    "\n",
    "\n",
    "    dominant_total = AA_AA + AA_Aa + AA_aa + Aa_Aa + Aa_aa + aa_aa\n",
    "    probability = dominant_total / total_pairs\n",
    "    return probability\n",
    "pr(3,4,5)"
   ]
  },
  {
   "cell_type": "code",
   "execution_count": null,
   "id": "f5b60d9d-66cb-402c-8552-391c020e0132",
   "metadata": {},
   "outputs": [],
   "source": []
  }
 ],
 "metadata": {
  "kernelspec": {
   "display_name": "Python 3 (ipykernel)",
   "language": "python",
   "name": "python3"
  },
  "language_info": {
   "codemirror_mode": {
    "name": "ipython",
    "version": 3
   },
   "file_extension": ".py",
   "mimetype": "text/x-python",
   "name": "python",
   "nbconvert_exporter": "python",
   "pygments_lexer": "ipython3",
   "version": "3.13.5"
  }
 },
 "nbformat": 4,
 "nbformat_minor": 5
}
